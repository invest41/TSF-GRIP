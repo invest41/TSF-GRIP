{
  "nbformat": 4,
  "nbformat_minor": 0,
  "metadata": {
    "colab": {
      "name": "Basic_Linear_Reg.ipynb",
      "provenance": [],
      "collapsed_sections": [
        "2qiGU3N8Jgvn",
        "4OwU3tDkJqHn",
        "CxrsO2RyJwhj",
        "mJJDUB3uKEKf",
        "Pg-eai6XKMeZ",
        "HyD6RXw3KRPo",
        "M0rt4nh9KWIK"
      ],
      "authorship_tag": "ABX9TyNY7BcO4RePrnUoi8D2mI4K",
      "include_colab_link": true
    },
    "kernelspec": {
      "name": "python3",
      "display_name": "Python 3"
    },
    "language_info": {
      "name": "python"
    }
  },
  "cells": [
    {
      "cell_type": "markdown",
      "metadata": {
        "id": "view-in-github",
        "colab_type": "text"
      },
      "source": [
        "<a href=\"https://colab.research.google.com/github/invest41/TSF-GRIP/blob/main/Basic_Linear_Reg.ipynb\" target=\"_parent\"><img src=\"https://colab.research.google.com/assets/colab-badge.svg\" alt=\"Open In Colab\"/></a>"
      ]
    },
    {
      "cell_type": "markdown",
      "metadata": {
        "id": "SGfj8NNrJYL6"
      },
      "source": [
        "# Data Analysis with Simple Linear Regression"
      ]
    },
    {
      "cell_type": "markdown",
      "metadata": {
        "id": "2qiGU3N8Jgvn"
      },
      "source": [
        "### *Setting the environment*"
      ]
    },
    {
      "cell_type": "code",
      "metadata": {
        "id": "PR5OV5onAwN4"
      },
      "source": [
        "import pandas as pd, numpy as np, matplotlib.pyplot as plt, seaborn as sns\n",
        "from sklearn.linear_model import LinearRegression as LR\n",
        "from sklearn.model_selection import train_test_split as TTS\n",
        "from sklearn.metrics import mean_squared_error as MSE\n",
        "import joblib"
      ],
      "execution_count": 13,
      "outputs": []
    },
    {
      "cell_type": "markdown",
      "metadata": {
        "id": "4OwU3tDkJqHn"
      },
      "source": [
        "### *Data access*"
      ]
    },
    {
      "cell_type": "code",
      "metadata": {
        "colab": {
          "base_uri": "https://localhost:8080/",
          "height": 142
        },
        "id": "lrrkBmiBBHI6",
        "outputId": "950c1c7d-f407-4606-837e-a5eae8291419"
      },
      "source": [
        "df = pd.read_csv('https://raw.githubusercontent.com/AdiPersonalWorks/Random/master/student_scores%20-%20student_scores.csv')\n",
        "df.sample(3)"
      ],
      "execution_count": 2,
      "outputs": [
        {
          "output_type": "execute_result",
          "data": {
            "text/html": [
              "<div>\n",
              "<style scoped>\n",
              "    .dataframe tbody tr th:only-of-type {\n",
              "        vertical-align: middle;\n",
              "    }\n",
              "\n",
              "    .dataframe tbody tr th {\n",
              "        vertical-align: top;\n",
              "    }\n",
              "\n",
              "    .dataframe thead th {\n",
              "        text-align: right;\n",
              "    }\n",
              "</style>\n",
              "<table border=\"1\" class=\"dataframe\">\n",
              "  <thead>\n",
              "    <tr style=\"text-align: right;\">\n",
              "      <th></th>\n",
              "      <th>Hours</th>\n",
              "      <th>Scores</th>\n",
              "    </tr>\n",
              "  </thead>\n",
              "  <tbody>\n",
              "    <tr>\n",
              "      <th>24</th>\n",
              "      <td>7.8</td>\n",
              "      <td>86</td>\n",
              "    </tr>\n",
              "    <tr>\n",
              "      <th>9</th>\n",
              "      <td>2.7</td>\n",
              "      <td>25</td>\n",
              "    </tr>\n",
              "    <tr>\n",
              "      <th>10</th>\n",
              "      <td>7.7</td>\n",
              "      <td>85</td>\n",
              "    </tr>\n",
              "  </tbody>\n",
              "</table>\n",
              "</div>"
            ],
            "text/plain": [
              "    Hours  Scores\n",
              "24    7.8      86\n",
              "9     2.7      25\n",
              "10    7.7      85"
            ]
          },
          "metadata": {
            "tags": []
          },
          "execution_count": 2
        }
      ]
    },
    {
      "cell_type": "markdown",
      "metadata": {
        "id": "CxrsO2RyJwhj"
      },
      "source": [
        "### *Data Visualization*"
      ]
    },
    {
      "cell_type": "code",
      "metadata": {
        "colab": {
          "base_uri": "https://localhost:8080/",
          "height": 407
        },
        "id": "04np7RANDdjq",
        "outputId": "cb17a7a4-d24f-4dfe-9069-b9252885b478"
      },
      "source": [
        "df.plot.line(figsize=(10,6), title='Student Performance')\n",
        "plt.xlabel('Student ID', fontsize=13)\n",
        "plt.ylabel('Value', fontsize=13)\n",
        "plt.savefig('student_performance.png')"
      ],
      "execution_count": 3,
      "outputs": [
        {
          "output_type": "display_data",
          "data": {
            "image/png": "[encoded data removed]",
            "text/plain": [
              "<Figure size 720x432 with 1 Axes>"
            ]
          },
          "metadata": {
            "tags": [],
            "needs_background": "light"
          }
        }
      ]
    },
    {
      "cell_type": "markdown",
      "metadata": {
        "id": "mJJDUB3uKEKf"
      },
      "source": [
        "### *Feature engineering and Data pre-processing*"
      ]
    },
    {
      "cell_type": "code",
      "metadata": {
        "id": "Trv2aLQEDTCb"
      },
      "source": [
        "X = df['Hours'].values.reshape(-1,1)\n",
        "y = df['Scores']\n",
        "\n",
        "X1, X2, y1, y2 = TTS(X, y, test_size=0.2)"
      ],
      "execution_count": 10,
      "outputs": []
    },
    {
      "cell_type": "markdown",
      "metadata": {
        "id": "Pg-eai6XKMeZ"
      },
      "source": [
        "### *Model Creation*"
      ]
    },
    {
      "cell_type": "code",
      "metadata": {
        "id": "vXrAVDfSC5v7"
      },
      "source": [
        "model = LR()\n",
        "model.fit(X1, y1)"
      ],
      "execution_count": null,
      "outputs": []
    },
    {
      "cell_type": "markdown",
      "metadata": {
        "id": "HyD6RXw3KRPo"
      },
      "source": [
        "### *Model evaluation*"
      ]
    },
    {
      "cell_type": "code",
      "metadata": {
        "colab": {
          "base_uri": "https://localhost:8080/"
        },
        "id": "sxemgr6QIHtQ",
        "outputId": "dff96382-5cdd-4690-95fb-e4f259260f68"
      },
      "source": [
        "pred = model.predict(X2)\n",
        "RMSE = np.sqrt(MSE(y2, pred))\n",
        "print(f'Root Mean Squared Error: {RMSE}')"
      ],
      "execution_count": 15,
      "outputs": [
        {
          "output_type": "stream",
          "text": [
            "Root Mean Squared Error: 7.773000098127805\n"
          ],
          "name": "stdout"
        }
      ]
    },
    {
      "cell_type": "markdown",
      "metadata": {
        "id": "M0rt4nh9KWIK"
      },
      "source": [
        "### *Saving the model*"
      ]
    },
    {
      "cell_type": "code",
      "metadata": {
        "colab": {
          "base_uri": "https://localhost:8080/"
        },
        "id": "0964tkcWGKze",
        "outputId": "d6e5a64b-c4bc-4e3a-8487-e554ea984f9d"
      },
      "source": [
        "fn = 'Basic_linear_reg.joblib'\n",
        "joblib.dump(model, fn)\n",
        "print('Model saved as', fn)"
      ],
      "execution_count": 6,
      "outputs": [
        {
          "output_type": "stream",
          "text": [
            "Model saved as Basic_linear_reg.joblib\n"
          ],
          "name": "stdout"
        }
      ]
    }
  ]
}